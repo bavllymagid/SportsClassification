{
 "cells": [
  {
   "cell_type": "markdown",
   "id": "84d389b0",
   "metadata": {
    "papermill": {
     "duration": 0.004592,
     "end_time": "2022-12-22T16:42:12.045692",
     "exception": false,
     "start_time": "2022-12-22T16:42:12.041100",
     "status": "completed"
    },
    "tags": []
   },
   "source": []
  },
  {
   "cell_type": "markdown",
   "id": "1071a03c",
   "metadata": {
    "papermill": {
     "duration": 0.003188,
     "end_time": "2022-12-22T16:42:12.052841",
     "exception": false,
     "start_time": "2022-12-22T16:42:12.049653",
     "status": "completed"
    },
    "tags": []
   },
   "source": [
    "# Reading Data"
   ]
  },
  {
   "cell_type": "code",
   "execution_count": 1,
   "id": "5dceed38",
   "metadata": {
    "_cell_guid": "b1076dfc-b9ad-4769-8c92-a6c4dae69d19",
    "_uuid": "8f2839f25d086af736a60e9eeb907d3b93b6e0e5",
    "execution": {
     "iopub.execute_input": "2022-12-22T16:42:12.062205Z",
     "iopub.status.busy": "2022-12-22T16:42:12.061667Z",
     "iopub.status.idle": "2022-12-22T16:42:35.772679Z",
     "shell.execute_reply": "2022-12-22T16:42:35.771520Z"
    },
    "papermill": {
     "duration": 23.719491,
     "end_time": "2022-12-22T16:42:35.775681",
     "exception": false,
     "start_time": "2022-12-22T16:42:12.056190",
     "status": "completed"
    },
    "tags": []
   },
   "outputs": [
    {
     "name": "stdout",
     "output_type": "stream",
     "text": [
      "1681\n",
      "Yoga\n"
     ]
    }
   ],
   "source": [
    "import numpy as np\n",
    "import pandas as pd\n",
    "import matplotlib.pyplot as plt\n",
    "import seaborn as sns\n",
    "import cv2 as cv\n",
    "import os\n",
    "\n",
    "\n",
    "data = []\n",
    "labels = []\n",
    "IMG_SIZE = 150\n",
    "for i in os.listdir('/kaggle/input/nn23-sports-image-classification/Train'):\n",
    "    img = cv.imread('/kaggle/input/nn23-sports-image-classification/Train/'+i)\n",
    "    img = cv.cvtColor(img,cv.COLOR_BGR2RGB)\n",
    "    img = cv.resize(img,(IMG_SIZE,IMG_SIZE))\n",
    "    data.append(img)\n",
    "    labels.append(i.split('_')[0])\n",
    "\n",
    "print(len(data))\n",
    "print(labels[0])"
   ]
  },
  {
   "cell_type": "markdown",
   "id": "f795c759",
   "metadata": {
    "papermill": {
     "duration": 0.00369,
     "end_time": "2022-12-22T16:42:35.783557",
     "exception": false,
     "start_time": "2022-12-22T16:42:35.779867",
     "status": "completed"
    },
    "tags": []
   },
   "source": [
    "# Preprocessing"
   ]
  },
  {
   "cell_type": "code",
   "execution_count": 2,
   "id": "f9d59f49",
   "metadata": {
    "execution": {
     "iopub.execute_input": "2022-12-22T16:42:35.793405Z",
     "iopub.status.busy": "2022-12-22T16:42:35.792683Z",
     "iopub.status.idle": "2022-12-22T16:42:45.972601Z",
     "shell.execute_reply": "2022-12-22T16:42:45.970412Z"
    },
    "papermill": {
     "duration": 10.187644,
     "end_time": "2022-12-22T16:42:45.975005",
     "exception": false,
     "start_time": "2022-12-22T16:42:35.787361",
     "status": "completed"
    },
    "tags": []
   },
   "outputs": [
    {
     "name": "stdout",
     "output_type": "stream",
     "text": [
      "1344\n",
      "337\n"
     ]
    }
   ],
   "source": [
    "from keras.utils import np_utils\n",
    "from sklearn.preprocessing import LabelEncoder\n",
    "from sklearn.model_selection import train_test_split\n",
    "\n",
    "le = LabelEncoder()\n",
    "train_labels = le.fit_transform(labels)\n",
    "train_labels = np_utils.to_categorical(train_labels, len(np.unique(train_labels)))\n",
    "\n",
    "# split the data into training and testing\n",
    "(trainX, testX, trainY, testY) = train_test_split(np.array(data), np.array(train_labels), test_size=0.20, random_state=42)\n",
    "\n",
    "# normalize the data\n",
    "trainX = trainX.astype(\"float\") / 255.0\n",
    "testX = testX.astype(\"float\") / 255.0\n",
    "\n",
    "print(len(trainX))\n",
    "print(len(testX))"
   ]
  },
  {
   "cell_type": "markdown",
   "id": "3e25a555",
   "metadata": {
    "papermill": {
     "duration": 0.003609,
     "end_time": "2022-12-22T16:42:45.982527",
     "exception": false,
     "start_time": "2022-12-22T16:42:45.978918",
     "status": "completed"
    },
    "tags": []
   },
   "source": [
    "# Augmentation"
   ]
  },
  {
   "cell_type": "code",
   "execution_count": 3,
   "id": "50c1f44b",
   "metadata": {
    "execution": {
     "iopub.execute_input": "2022-12-22T16:42:45.991193Z",
     "iopub.status.busy": "2022-12-22T16:42:45.990609Z",
     "iopub.status.idle": "2022-12-22T16:42:46.646495Z",
     "shell.execute_reply": "2022-12-22T16:42:46.644313Z"
    },
    "papermill": {
     "duration": 0.662667,
     "end_time": "2022-12-22T16:42:46.648670",
     "exception": false,
     "start_time": "2022-12-22T16:42:45.986003",
     "status": "completed"
    },
    "tags": []
   },
   "outputs": [
    {
     "name": "stdout",
     "output_type": "stream",
     "text": [
      "42\n"
     ]
    }
   ],
   "source": [
    "from tensorflow.keras.preprocessing.image import ImageDataGenerator\n",
    "\n",
    "train_datagen = ImageDataGenerator(\n",
    "                                    rotation_range=40,\n",
    "                                    width_shift_range=0.2,\n",
    "                                    height_shift_range=0.2,\n",
    "                                    shear_range=0.2,\n",
    "                                    zoom_range=0.2,\n",
    "                                    horizontal_flip=True)\n",
    "train_gen = train_datagen.flow(trainX,trainY,batch_size=32)\n",
    "print(len(train_gen))"
   ]
  },
  {
   "cell_type": "markdown",
   "id": "15828c56",
   "metadata": {
    "papermill": {
     "duration": 0.003405,
     "end_time": "2022-12-22T16:42:46.656087",
     "exception": false,
     "start_time": "2022-12-22T16:42:46.652682",
     "status": "completed"
    },
    "tags": []
   },
   "source": [
    "# Model"
   ]
  },
  {
   "cell_type": "code",
   "execution_count": 4,
   "id": "a0c31dfe",
   "metadata": {
    "execution": {
     "iopub.execute_input": "2022-12-22T16:42:46.665079Z",
     "iopub.status.busy": "2022-12-22T16:42:46.664774Z",
     "iopub.status.idle": "2022-12-22T16:42:52.480970Z",
     "shell.execute_reply": "2022-12-22T16:42:52.480018Z"
    },
    "papermill": {
     "duration": 5.825717,
     "end_time": "2022-12-22T16:42:52.485751",
     "exception": false,
     "start_time": "2022-12-22T16:42:46.660034",
     "status": "completed"
    },
    "tags": []
   },
   "outputs": [
    {
     "name": "stderr",
     "output_type": "stream",
     "text": [
      "2022-12-22 16:42:46.835427: I tensorflow/stream_executor/cuda/cuda_gpu_executor.cc:937] successful NUMA node read from SysFS had negative value (-1), but there must be at least one NUMA node, so returning NUMA node zero\n",
      "2022-12-22 16:42:46.836495: I tensorflow/stream_executor/cuda/cuda_gpu_executor.cc:937] successful NUMA node read from SysFS had negative value (-1), but there must be at least one NUMA node, so returning NUMA node zero\n",
      "2022-12-22 16:42:47.080487: I tensorflow/stream_executor/cuda/cuda_gpu_executor.cc:937] successful NUMA node read from SysFS had negative value (-1), but there must be at least one NUMA node, so returning NUMA node zero\n",
      "2022-12-22 16:42:47.081527: I tensorflow/stream_executor/cuda/cuda_gpu_executor.cc:937] successful NUMA node read from SysFS had negative value (-1), but there must be at least one NUMA node, so returning NUMA node zero\n",
      "2022-12-22 16:42:47.082312: I tensorflow/stream_executor/cuda/cuda_gpu_executor.cc:937] successful NUMA node read from SysFS had negative value (-1), but there must be at least one NUMA node, so returning NUMA node zero\n",
      "2022-12-22 16:42:47.083058: I tensorflow/stream_executor/cuda/cuda_gpu_executor.cc:937] successful NUMA node read from SysFS had negative value (-1), but there must be at least one NUMA node, so returning NUMA node zero\n",
      "2022-12-22 16:42:47.085248: I tensorflow/core/platform/cpu_feature_guard.cc:142] This TensorFlow binary is optimized with oneAPI Deep Neural Network Library (oneDNN) to use the following CPU instructions in performance-critical operations:  AVX2 AVX512F FMA\n",
      "To enable them in other operations, rebuild TensorFlow with the appropriate compiler flags.\n",
      "2022-12-22 16:42:47.329455: I tensorflow/stream_executor/cuda/cuda_gpu_executor.cc:937] successful NUMA node read from SysFS had negative value (-1), but there must be at least one NUMA node, so returning NUMA node zero\n",
      "2022-12-22 16:42:47.330272: I tensorflow/stream_executor/cuda/cuda_gpu_executor.cc:937] successful NUMA node read from SysFS had negative value (-1), but there must be at least one NUMA node, so returning NUMA node zero\n",
      "2022-12-22 16:42:47.331210: I tensorflow/stream_executor/cuda/cuda_gpu_executor.cc:937] successful NUMA node r"
     ]
    },
    {
     "name": "stdout",
     "output_type": "stream",
     "text": [
      "Model: \"model\"\n",
      "__________________________________________________________________________________________________\n",
      "Layer (type)                    Output Shape         Param #     Connected to                     \n",
      "==================================================================================================\n",
      "input_1 (InputLayer)            [(None, 150, 150, 3) 0                                            \n",
      "__________________________________________________________________________________________________\n",
      "conv2d_3 (Conv2D)               (None, 150, 150, 5)  20          input_1[0][0]                    \n",
      "__________________________________________________________________________________________________\n",
      "conv2d_4 (Conv2D)               (None, 150, 150, 5)  80          conv2d_3[0][0]                   \n",
      "__________________________________________________________________________________________________\n",
      "conv2d (Conv2D)                 (None, 150, 150, 5)  20          input_1[0][0]                    \n",
      "__________________________________________________________________________________________________\n",
      "conv2d_5 (Conv2D)               (None, 150, 150, 5)  80          conv2d_4[0][0]                   \n",
      "__________________________________________________________________________________________________\n",
      "max_pooling2d (MaxPooling2D)    (None, 150, 150, 3)  0           input_1[0][0]                    \n",
      "__________________________________________________________________________________________________\n",
      "conv2d_1 (Conv2D)               (None, 150, 150, 5)  80          conv2d[0][0]                     \n",
      "__________________________________________________________________________________________________\n",
      "conv2d_6 (Conv2D)               (None, 150, 150, 5)  80          conv2d_5[0][0]                   \n",
      "__________________________________________________________________________________________________\n",
      "conv2d_8 (Conv2D)               (None, 150, 150, 5)  20          max_pooling2d[0][0]              \n",
      "__________________________________________________________________________________________________\n",
      "conv2d_2 (Conv2D)               (None, 150, 150, 5)  80          conv2d_1[0][0]                   \n",
      "__________________________________________________________________________________________________\n",
      "conv2d_7 (Conv2D)               (None, 150, 150, 5)  80          conv2d_6[0][0]                   \n",
      "__________________________________________________________________________________________________\n",
      "dropout (Dropout)               (None, 150, 150, 5)  0           conv2d_8[0][0]                   \n",
      "__________________________________________________________________________________________________\n",
      "concatenate (Concatenate)       (None, 150, 150, 15) 0           conv2d_2[0][0]                   \n",
      "                                                                 conv2d_7[0][0]                   \n",
      "                                                                 dropout[0][0]                    \n",
      "__________________________________________________________________________________________________\n",
      "flatten (Flatten)               (None, 337500)       0           concatenate[0][0]                \n",
      "__________________________________________________________________________________________________\n",
      "dense (Dense)                   (None, 1200)         405001200   flatten[0][0]                    \n",
      "__________________________________________________________________________________________________\n",
      "dense_1 (Dense)                 (None, 600)          720600      dense[0][0]                      \n",
      "__________________________________________________________________________________________________\n",
      "dense_2 (Dense)                 (None, 150)          90150       dense_1[0][0]                    \n",
      "__________________________________________________________________________________________________\n",
      "dense_3 (Dense)                 (None, 6)            906         dense_2[0][0]                    \n",
      "==================================================================================================\n",
      "Total params: 405,813,396\n",
      "Trainable params: 405,813,396\n",
      "Non-trainable params: 0\n",
      "__________________________________________________________________________________________________\n"
     ]
    },
    {
     "name": "stderr",
     "output_type": "stream",
     "text": [
      "ead from SysFS had negative value (-1), but there must be at least one NUMA node, so returning NUMA node zero\n",
      "2022-12-22 16:42:47.332103: I tensorflow/stream_executor/cuda/cuda_gpu_executor.cc:937] successful NUMA node read from SysFS had negative value (-1), but there must be at least one NUMA node, so returning NUMA node zero\n",
      "2022-12-22 16:42:47.332811: I tensorflow/stream_executor/cuda/cuda_gpu_executor.cc:937] successful NUMA node read from SysFS had negative value (-1), but there must be at least one NUMA node, so returning NUMA node zero\n",
      "2022-12-22 16:42:47.333522: I tensorflow/stream_executor/cuda/cuda_gpu_executor.cc:937] successful NUMA node read from SysFS had negative value (-1), but there must be at least one NUMA node, so returning NUMA node zero\n",
      "2022-12-22 16:42:51.956332: I tensorflow/stream_executor/cuda/cuda_gpu_executor.cc:937] successful NUMA node read from SysFS had negative value (-1), but there must be at least one NUMA node, so returning NUMA node zero\n",
      "2022-12-22 16:42:51.957287: I tensorflow/stream_executor/cuda/cuda_gpu_executor.cc:937] successful NUMA node read from SysFS had negative value (-1), but there must be at least one NUMA node, so returning NUMA node zero\n",
      "2022-12-22 16:42:51.958003: I tensorflow/stream_executor/cuda/cuda_gpu_executor.cc:937] successful NUMA node read from SysFS had negative value (-1), but there must be at least one NUMA node, so returning NUMA node zero\n",
      "2022-12-22 16:42:51.958707: I tensorflow/stream_executor/cuda/cuda_gpu_executor.cc:937] successful NUMA node read from SysFS had negative value (-1), but there must be at least one NUMA node, so returning NUMA node zero\n",
      "2022-12-22 16:42:51.959386: I tensorflow/stream_executor/cuda/cuda_gpu_executor.cc:937] successful NUMA node read from SysFS had negative value (-1), but there must be at least one NUMA node, so returning NUMA node zero\n",
      "2022-12-22 16:42:51.960077: I tensorflow/core/common_runtime/gpu/gpu_device.cc:1510] Created device /job:localhost/replica:0/task:0/device:GPU:0 with 13789 MB memory:  -> device: 0, name: Tesla T4, pci bus id: 0000:00:04.0, compute capability: 7.5\n",
      "2022-12-22 16:42:51.964898: I tensorflow/stream_executor/cuda/cuda_gpu_executor.cc:937] successful NUMA node read from SysFS had negative value (-1), but there must be at least one NUMA node, so returning NUMA node zero\n",
      "2022-12-22 16:42:51.965580: I tensorflow/core/common_runtime/gpu/gpu_device.cc:1510] Created device /job:localhost/replica:0/task:0/device:GPU:1 with 13789 MB memory:  -> device: 1, name: Tesla T4, pci bus id: 0000:00:05.0, compute capability: 7.5\n"
     ]
    }
   ],
   "source": [
    "import keras \n",
    "import tensorflow\n",
    "from keras.layers.core import Dense, Dropout, Activation, Flatten\n",
    "from keras.layers.convolutional import Conv2D, MaxPooling2D, SeparableConv2D\n",
    "from keras.regularizers import l2\n",
    "from tensorflow.keras.optimizers import SGD, RMSprop\n",
    "from tensorflow.keras.utils import to_categorical\n",
    "from tensorflow.keras.layers import BatchNormalization\n",
    "from keras.utils.vis_utils import plot_model\n",
    "from keras.layers import Input, GlobalAveragePooling2D\n",
    "from keras import models\n",
    "from keras.models import Model\n",
    "\n",
    "IMG = Input(shape=(IMG_SIZE , IMG_SIZE , 3))\n",
    "\n",
    "layer_1 = Conv2D(5, (1,1), padding='same', activation='relu')(IMG)\n",
    "layer_1 = Conv2D(5, (1,3), padding='same', activation='relu')(layer_1)\n",
    "layer_1 = Conv2D(5, (3,1), padding='same', activation='relu')(layer_1)\n",
    "\n",
    "layer_2 = Conv2D(5, (1,1), padding='same', activation='relu')(IMG)\n",
    "layer_2 = Conv2D(5, (1,3), padding='same', activation='relu')(layer_2)\n",
    "layer_2 = Conv2D(5, (3,1), padding='same', activation='relu')(layer_2)\n",
    "layer_2 = Conv2D(5, (1,3), padding='same', activation='relu')(layer_2)\n",
    "layer_2 = Conv2D(5, (3,1), padding='same', activation='relu')(layer_2)\n",
    "\n",
    "layer_3 = MaxPooling2D((3,3), strides=(1,1), padding='same')(IMG)\n",
    "layer_3 = Conv2D(5, (1,1), padding='same', activation='relu')(layer_3)\n",
    "layer_3 = Dropout(0.25)(layer_3)\n",
    "\n",
    "\n",
    "mid_1 = tensorflow.keras.layers.concatenate([layer_1, layer_2, layer_3], axis = 3)\n",
    "\n",
    "flat_1 = Flatten()(mid_1)\n",
    "\n",
    "dense_1 = Dense(1200, activation='relu')(flat_1)\n",
    "dense_2 = Dense(600, activation='relu')(dense_1)\n",
    "dense_3 = Dense(150, activation='relu')(dense_2)\n",
    "output = Dense(6, activation='softmax')(dense_3)\n",
    "\n",
    "model = Model([IMG], output)\n",
    "\n",
    "model.summary()"
   ]
  },
  {
   "cell_type": "code",
   "execution_count": 5,
   "id": "a3120ffc",
   "metadata": {
    "execution": {
     "iopub.execute_input": "2022-12-22T16:42:52.495608Z",
     "iopub.status.busy": "2022-12-22T16:42:52.495301Z",
     "iopub.status.idle": "2022-12-22T17:08:25.536381Z",
     "shell.execute_reply": "2022-12-22T17:08:25.535200Z"
    },
    "papermill": {
     "duration": 1533.054998,
     "end_time": "2022-12-22T17:08:25.545080",
     "exception": false,
     "start_time": "2022-12-22T16:42:52.490082",
     "status": "completed"
    },
    "tags": []
   },
   "outputs": [
    {
     "name": "stderr",
     "output_type": "stream",
     "text": [
      "2022-12-22 16:42:52.766632: I tensorflow/compiler/mlir/mlir_graph_optimization_pass.cc:185] None of the MLIR Optimization Passes are enabled (registered 2)\n"
     ]
    },
    {
     "name": "stdout",
     "output_type": "stream",
     "text": [
      "Epoch 1/200\n"
     ]
    },
    {
     "name": "stderr",
     "output_type": "stream",
     "text": [
      "2022-12-22 16:42:55.599956: I tensorflow/stream_executor/cuda/cuda_dnn.cc:369] Loaded cuDNN version 8005\n"
     ]
    },
    {
     "name": "stdout",
     "output_type": "stream",
     "text": [
      "42/42 [==============================] - 23s 228ms/step - loss: 17.0021 - accuracy: 0.2820 - val_loss: 2.9958 - val_accuracy: 0.3828\n",
      "\n",
      "Epoch 00001: val_loss improved from inf to 2.99577, saving model to model.h5\n"
     ]
    },
    {
     "name": "stderr",
     "output_type": "stream",
     "text": [
      "2022-12-22 16:43:15.797882: W tensorflow/core/framework/cpu_allocator_impl.cc:80] Allocation of 1620000000 exceeds 10% of free system memory.\n",
      "2022-12-22 16:43:20.019213: W tensorflow/core/framework/cpu_allocator_impl.cc:80] Allocation of 1620000000 exceeds 10% of free system memory.\n",
      "2022-12-22 16:43:23.415392: W tensorflow/core/framework/cpu_allocator_impl.cc:80] Allocation of 1620000000 exceeds 10% of free system memory.\n"
     ]
    },
    {
     "name": "stdout",
     "output_type": "stream",
     "text": [
      "Epoch 2/200\n",
      "42/42 [==============================] - 9s 213ms/step - loss: 2.0411 - accuracy: 0.4159 - val_loss: 1.5371 - val_accuracy: 0.5312\n",
      "\n",
      "Epoch 00002: val_loss improved from 2.99577 to 1.53710, saving model to model.h5\n"
     ]
    },
    {
     "name": "stderr",
     "output_type": "stream",
     "text": [
      "2022-12-22 16:44:25.008225: W tensorflow/core/framework/cpu_allocator_impl.cc:80] Allocation of 1620000000 exceeds 10% of free system memory.\n",
      "2022-12-22 16:44:28.954011: W tensorflow/core/framework/cpu_allocator_impl.cc:80] Allocation of 1620000000 exceeds 10% of free system memory.\n"
     ]
    },
    {
     "name": "stdout",
     "output_type": "stream",
     "text": [
      "Epoch 3/200\n",
      "42/42 [==============================] - 9s 217ms/step - loss: 1.4249 - accuracy: 0.5305 - val_loss: 1.2819 - val_accuracy: 0.5223\n",
      "\n",
      "Epoch 00003: val_loss improved from 1.53710 to 1.28186, saving model to model.h5\n",
      "Epoch 4/200\n",
      "42/42 [==============================] - 9s 221ms/step - loss: 1.4784 - accuracy: 0.5149 - val_loss: 1.2302 - val_accuracy: 0.5668\n",
      "\n",
      "Epoch 00004: val_loss improved from 1.28186 to 1.23023, saving model to model.h5\n",
      "Epoch 5/200\n",
      "42/42 [==============================] - 9s 213ms/step - loss: 1.2427 - accuracy: 0.5699 - val_loss: 1.0454 - val_accuracy: 0.6083\n",
      "\n",
      "Epoch 00005: val_loss improved from 1.23023 to 1.04537, saving model to model.h5\n",
      "Epoch 6/200\n",
      "42/42 [==============================] - 9s 211ms/step - loss: 1.1107 - accuracy: 0.5908 - val_loss: 0.9597 - val_accuracy: 0.6083\n",
      "\n",
      "Epoch 00006: val_loss improved from 1.04537 to 0.95973, saving model to model.h5\n",
      "Epoch 7/200\n",
      "42/42 [==============================] - 9s 215ms/step - loss: 1.0927 - accuracy: 0.6183 - val_loss: 1.0632 - val_accuracy: 0.6172\n",
      "\n",
      "Epoch 00007: val_loss did not improve from 0.95973\n",
      "Epoch 8/200\n",
      "42/42 [==============================] - 9s 212ms/step - loss: 1.0915 - accuracy: 0.5960 - val_loss: 1.0147 - val_accuracy: 0.6172\n",
      "\n",
      "Epoch 00008: val_loss did not improve from 0.95973\n",
      "Epoch 9/200\n",
      "42/42 [==============================] - 10s 233ms/step - loss: 1.0676 - accuracy: 0.5997 - val_loss: 0.8833 - val_accuracy: 0.7092\n",
      "\n",
      "Epoch 00009: val_loss improved from 0.95973 to 0.88331, saving model to model.h5\n",
      "Epoch 10/200\n",
      "42/42 [==============================] - 9s 206ms/step - loss: 1.0322 - accuracy: 0.6265 - val_loss: 0.8609 - val_accuracy: 0.6825\n",
      "\n",
      "Epoch 00010: val_loss improved from 0.88331 to 0.86094, saving model to model.h5\n",
      "Epoch 11/200\n",
      "42/42 [==============================] - 9s 218ms/step - loss: 0.9421 - accuracy: 0.6749 - val_loss: 1.0805 - val_accuracy: 0.6291\n",
      "\n",
      "Epoch 00011: val_loss did not improve from 0.86094\n",
      "Epoch 12/200\n",
      "42/42 [==============================] - 9s 215ms/step - loss: 0.9382 - accuracy: 0.6577 - val_loss: 0.7603 - val_accuracy: 0.7359\n",
      "\n",
      "Epoch 00012: val_loss improved from 0.86094 to 0.76031, saving model to model.h5\n",
      "Epoch 13/200\n",
      "42/42 [==============================] - 9s 218ms/step - loss: 0.8759 - accuracy: 0.6890 - val_loss: 0.8725 - val_accuracy: 0.6706\n",
      "\n",
      "Epoch 00013: val_loss did not improve from 0.76031\n",
      "Epoch 14/200\n",
      "42/42 [==============================] - 10s 231ms/step - loss: 0.8722 - accuracy: 0.6756 - val_loss: 0.7981 - val_accuracy: 0.7270\n",
      "\n",
      "Epoch 00014: val_loss did not improve from 0.76031\n",
      "Epoch 15/200\n",
      "42/42 [==============================] - 9s 214ms/step - loss: 0.8449 - accuracy: 0.6935 - val_loss: 0.7938 - val_accuracy: 0.6944\n",
      "\n",
      "Epoch 00015: val_loss did not improve from 0.76031\n",
      "Epoch 16/200\n",
      "42/42 [==============================] - 9s 218ms/step - loss: 0.8628 - accuracy: 0.6749 - val_loss: 1.0115 - val_accuracy: 0.6528\n",
      "\n",
      "Epoch 00016: val_loss did not improve from 0.76031\n",
      "Epoch 17/200\n",
      "42/42 [==============================] - 9s 215ms/step - loss: 0.8445 - accuracy: 0.7083 - val_loss: 0.7137 - val_accuracy: 0.7448\n",
      "\n",
      "Epoch 00017: val_loss improved from 0.76031 to 0.71366, saving model to model.h5\n",
      "Epoch 18/200\n",
      "42/42 [==============================] - 10s 223ms/step - loss: 0.8255 - accuracy: 0.7068 - val_loss: 0.8825 - val_accuracy: 0.7092\n",
      "\n",
      "Epoch 00018: val_loss did not improve from 0.71366\n",
      "Epoch 19/200\n",
      "42/42 [==============================] - 9s 212ms/step - loss: 0.7971 - accuracy: 0.7106 - val_loss: 0.6336 - val_accuracy: 0.7923\n",
      "\n",
      "Epoch 00019: val_loss improved from 0.71366 to 0.63360, saving model to model.h5\n",
      "Epoch 20/200\n",
      "42/42 [==============================] - 9s 216ms/step - loss: 0.7268 - accuracy: 0.7359 - val_loss: 0.6250 - val_accuracy: 0.7893\n",
      "\n",
      "Epoch 00020: val_loss improved from 0.63360 to 0.62499, saving model to model.h5\n",
      "Epoch 21/200\n",
      "42/42 [==============================] - 9s 213ms/step - loss: 0.7877 - accuracy: 0.7135 - val_loss: 0.6995 - val_accuracy: 0.7507\n",
      "\n",
      "Epoch 00021: val_loss did not improve from 0.62499\n",
      "Epoch 22/200\n",
      "42/42 [==============================] - 9s 212ms/step - loss: 0.7749 - accuracy: 0.7202 - val_loss: 0.6886 - val_accuracy: 0.7804\n",
      "\n",
      "Epoch 00022: val_loss did not improve from 0.62499\n",
      "Epoch 23/200\n",
      "42/42 [==============================] - 9s 218ms/step - loss: 0.7056 - accuracy: 0.7493 - val_loss: 0.6116 - val_accuracy: 0.7804\n",
      "\n",
      "Epoch 00023: val_loss improved from 0.62499 to 0.61163, saving model to model.h5\n",
      "Epoch 24/200\n",
      "42/42 [==============================] - 10s 232ms/step - loss: 0.7129 - accuracy: 0.7567 - val_loss: 0.6295 - val_accuracy: 0.7596\n",
      "\n",
      "Epoch 00024: val_loss did not improve from 0.61163\n",
      "Epoch 25/200\n",
      "42/42 [==============================] - 9s 213ms/step - loss: 0.7135 - accuracy: 0.7336 - val_loss: 0.7267 - val_accuracy: 0.7656\n",
      "\n",
      "Epoch 00025: val_loss did not improve from 0.61163\n",
      "Epoch 26/200\n",
      "42/42 [==============================] - 9s 207ms/step - loss: 0.7048 - accuracy: 0.7493 - val_loss: 0.6892 - val_accuracy: 0.7478\n",
      "\n",
      "Epoch 00026: val_loss did not improve from 0.61163\n",
      "Epoch 27/200\n",
      "42/42 [==============================] - 9s 213ms/step - loss: 0.7180 - accuracy: 0.7455 - val_loss: 0.6593 - val_accuracy: 0.7774\n",
      "\n",
      "Epoch 00027: val_loss did not improve from 0.61163\n",
      "Epoch 28/200\n",
      "42/42 [==============================] - 10s 227ms/step - loss: 0.6726 - accuracy: 0.7634 - val_loss: 0.5661 - val_accuracy: 0.8012\n",
      "\n",
      "Epoch 00028: val_loss improved from 0.61163 to 0.56607, saving model to model.h5\n",
      "Epoch 29/200\n",
      "42/42 [==============================] - 10s 225ms/step - loss: 0.6771 - accuracy: 0.7604 - val_loss: 0.6157 - val_accuracy: 0.7893\n",
      "\n",
      "Epoch 00029: val_loss did not improve from 0.56607\n",
      "Epoch 30/200\n",
      "42/42 [==============================] - 9s 214ms/step - loss: 0.6770 - accuracy: 0.7693 - val_loss: 0.6602 - val_accuracy: 0.7685\n",
      "\n",
      "Epoch 00030: val_loss did not improve from 0.56607\n",
      "Epoch 31/200\n",
      "42/42 [==============================] - 9s 211ms/step - loss: 0.6711 - accuracy: 0.7664 - val_loss: 0.6240 - val_accuracy: 0.7596\n",
      "\n",
      "Epoch 00031: val_loss did not improve from 0.56607\n",
      "Epoch 32/200\n",
      "42/42 [==============================] - 10s 226ms/step - loss: 0.6485 - accuracy: 0.7649 - val_loss: 0.6217 - val_accuracy: 0.7774\n",
      "\n",
      "Epoch 00032: val_loss did not improve from 0.56607\n",
      "Epoch 33/200\n",
      "42/42 [==============================] - 9s 206ms/step - loss: 0.6423 - accuracy: 0.7835 - val_loss: 0.6457 - val_accuracy: 0.7774\n",
      "\n",
      "Epoch 00033: val_loss did not improve from 0.56607\n",
      "Epoch 34/200\n",
      "42/42 [==============================] - 9s 215ms/step - loss: 0.6500 - accuracy: 0.7649 - val_loss: 0.7769 - val_accuracy: 0.7359\n",
      "\n",
      "Epoch 00034: val_loss did not improve from 0.56607\n",
      "Epoch 35/200\n",
      "42/42 [==============================] - 9s 213ms/step - loss: 0.6114 - accuracy: 0.7835 - val_loss: 0.6999 - val_accuracy: 0.7359\n",
      "\n",
      "Epoch 00035: val_loss did not improve from 0.56607\n",
      "Epoch 36/200\n",
      "42/42 [==============================] - 10s 233ms/step - loss: 0.6528 - accuracy: 0.7664 - val_loss: 0.7799 - val_accuracy: 0.7567\n",
      "\n",
      "Epoch 00036: val_loss did not improve from 0.56607\n",
      "Epoch 37/200\n",
      "42/42 [==============================] - 9s 214ms/step - loss: 0.6225 - accuracy: 0.7790 - val_loss: 0.6583 - val_accuracy: 0.7953\n",
      "\n",
      "Epoch 00037: val_loss did not improve from 0.56607\n",
      "Epoch 38/200\n",
      "42/42 [==============================] - 9s 215ms/step - loss: 0.5619 - accuracy: 0.7946 - val_loss: 0.6323 - val_accuracy: 0.7745\n",
      "\n",
      "Epoch 00038: val_loss did not improve from 0.56607\n",
      "Epoch 39/200\n",
      "42/42 [==============================] - 9s 223ms/step - loss: 0.6232 - accuracy: 0.7820 - val_loss: 0.7041 - val_accuracy: 0.7626\n",
      "\n",
      "Epoch 00039: val_loss did not improve from 0.56607\n",
      "Epoch 40/200\n",
      "42/42 [==============================] - 9s 208ms/step - loss: 0.6345 - accuracy: 0.7798 - val_loss: 0.7911 - val_accuracy: 0.7122\n",
      "\n",
      "Epoch 00040: val_loss did not improve from 0.56607\n",
      "Epoch 41/200\n",
      "42/42 [==============================] - 9s 213ms/step - loss: 0.5998 - accuracy: 0.7946 - val_loss: 0.5573 - val_accuracy: 0.8131\n",
      "\n",
      "Epoch 00041: val_loss improved from 0.56607 to 0.55726, saving model to model.h5\n",
      "Epoch 42/200\n",
      "42/42 [==============================] - 9s 214ms/step - loss: 0.5634 - accuracy: 0.7939 - val_loss: 0.5051 - val_accuracy: 0.8279\n",
      "\n",
      "Epoch 00042: val_loss improved from 0.55726 to 0.50509, saving model to model.h5\n",
      "Epoch 43/200\n",
      "42/42 [==============================] - 9s 215ms/step - loss: 0.5440 - accuracy: 0.8006 - val_loss: 0.5699 - val_accuracy: 0.7923\n",
      "\n",
      "Epoch 00043: val_loss did not improve from 0.50509\n",
      "Epoch 44/200\n",
      "42/42 [==============================] - 9s 218ms/step - loss: 0.5401 - accuracy: 0.8110 - val_loss: 0.5648 - val_accuracy: 0.8012\n",
      "\n",
      "Epoch 00044: val_loss did not improve from 0.50509\n",
      "Epoch 45/200\n",
      "42/42 [==============================] - 9s 213ms/step - loss: 0.4988 - accuracy: 0.8304 - val_loss: 0.6400 - val_accuracy: 0.7923\n",
      "\n",
      "Epoch 00045: val_loss did not improve from 0.50509\n",
      "Epoch 46/200\n",
      "42/42 [==============================] - 9s 213ms/step - loss: 0.5315 - accuracy: 0.8118 - val_loss: 0.5676 - val_accuracy: 0.7893\n",
      "\n",
      "Epoch 00046: val_loss did not improve from 0.50509\n",
      "Epoch 47/200\n",
      "42/42 [==============================] - 9s 206ms/step - loss: 0.5589 - accuracy: 0.8125 - val_loss: 0.6486 - val_accuracy: 0.7656\n",
      "\n",
      "Epoch 00047: val_loss did not improve from 0.50509\n",
      "Epoch 48/200\n",
      "42/42 [==============================] - 10s 225ms/step - loss: 0.5096 - accuracy: 0.8192 - val_loss: 0.6032 - val_accuracy: 0.7656\n",
      "\n",
      "Epoch 00048: val_loss did not improve from 0.50509\n",
      "Epoch 49/200\n",
      "42/42 [==============================] - 9s 214ms/step - loss: 0.5042 - accuracy: 0.8177 - val_loss: 0.6005 - val_accuracy: 0.7982\n",
      "\n",
      "Epoch 00049: val_loss did not improve from 0.50509\n",
      "Epoch 50/200\n",
      "42/42 [==============================] - 9s 211ms/step - loss: 0.5078 - accuracy: 0.8192 - val_loss: 0.6499 - val_accuracy: 0.7982\n",
      "\n",
      "Epoch 00050: val_loss did not improve from 0.50509\n",
      "Epoch 51/200\n",
      "42/42 [==============================] - 9s 222ms/step - loss: 0.4985 - accuracy: 0.8289 - val_loss: 0.5918 - val_accuracy: 0.7953\n",
      "\n",
      "Epoch 00051: val_loss did not improve from 0.50509\n",
      "Epoch 52/200\n",
      "42/42 [==============================] - 9s 207ms/step - loss: 0.5116 - accuracy: 0.8259 - val_loss: 0.6684 - val_accuracy: 0.7804\n",
      "\n",
      "Epoch 00052: val_loss did not improve from 0.50509\n",
      "Epoch 53/200\n",
      "42/42 [==============================] - 9s 205ms/step - loss: 0.5340 - accuracy: 0.8237 - val_loss: 0.6737 - val_accuracy: 0.8042\n",
      "\n",
      "Epoch 00053: val_loss did not improve from 0.50509\n",
      "Epoch 54/200\n",
      "42/42 [==============================] - 9s 212ms/step - loss: 0.5315 - accuracy: 0.8259 - val_loss: 0.6321 - val_accuracy: 0.7923\n",
      "\n",
      "Epoch 00054: val_loss did not improve from 0.50509\n",
      "Epoch 55/200\n",
      "42/42 [==============================] - 10s 228ms/step - loss: 0.4550 - accuracy: 0.8482 - val_loss: 0.6286 - val_accuracy: 0.7685\n",
      "\n",
      "Epoch 00055: val_loss did not improve from 0.50509\n",
      "Epoch 56/200\n",
      "42/42 [==============================] - 9s 215ms/step - loss: 0.4518 - accuracy: 0.8430 - val_loss: 0.5358 - val_accuracy: 0.8220\n",
      "\n",
      "Epoch 00056: val_loss did not improve from 0.50509\n",
      "Epoch 57/200\n",
      "42/42 [==============================] - 9s 211ms/step - loss: 0.4482 - accuracy: 0.8371 - val_loss: 0.7322 - val_accuracy: 0.7596\n",
      "\n",
      "Epoch 00057: val_loss did not improve from 0.50509\n",
      "Epoch 58/200\n",
      "42/42 [==============================] - 9s 219ms/step - loss: 0.4458 - accuracy: 0.8467 - val_loss: 0.6267 - val_accuracy: 0.7923\n",
      "\n",
      "Epoch 00058: val_loss did not improve from 0.50509\n",
      "Epoch 59/200\n",
      "42/42 [==============================] - 9s 207ms/step - loss: 0.4231 - accuracy: 0.8519 - val_loss: 0.6548 - val_accuracy: 0.7804\n",
      "\n",
      "Epoch 00059: val_loss did not improve from 0.50509\n",
      "Epoch 60/200\n",
      "42/42 [==============================] - 9s 213ms/step - loss: 0.4394 - accuracy: 0.8452 - val_loss: 0.5216 - val_accuracy: 0.8309\n",
      "\n",
      "Epoch 00060: val_loss did not improve from 0.50509\n",
      "Epoch 61/200\n",
      "42/42 [==============================] - 9s 210ms/step - loss: 0.4311 - accuracy: 0.8482 - val_loss: 0.7940 - val_accuracy: 0.7359\n",
      "\n",
      "Epoch 00061: val_loss did not improve from 0.50509\n",
      "Epoch 62/200\n",
      "42/42 [==============================] - 10s 225ms/step - loss: 0.4678 - accuracy: 0.8311 - val_loss: 0.7381 - val_accuracy: 0.7656\n",
      "\n",
      "Epoch 00062: val_loss did not improve from 0.50509\n",
      "Epoch 63/200\n",
      "42/42 [==============================] - 9s 212ms/step - loss: 0.4522 - accuracy: 0.8445 - val_loss: 0.5637 - val_accuracy: 0.8042\n",
      "\n",
      "Epoch 00063: val_loss did not improve from 0.50509\n",
      "Epoch 64/200\n",
      "42/42 [==============================] - 9s 207ms/step - loss: 0.4529 - accuracy: 0.8467 - val_loss: 0.6615 - val_accuracy: 0.8071\n",
      "\n",
      "Epoch 00064: val_loss did not improve from 0.50509\n",
      "Epoch 65/200\n",
      "42/42 [==============================] - 10s 225ms/step - loss: 0.4176 - accuracy: 0.8579 - val_loss: 0.5567 - val_accuracy: 0.8338\n",
      "\n",
      "Epoch 00065: val_loss did not improve from 0.50509\n",
      "Epoch 66/200\n",
      "42/42 [==============================] - 9s 215ms/step - loss: 0.3948 - accuracy: 0.8646 - val_loss: 0.7221 - val_accuracy: 0.8042\n",
      "\n",
      "Epoch 00066: val_loss did not improve from 0.50509\n",
      "Epoch 67/200\n",
      "42/42 [==============================] - 9s 215ms/step - loss: 0.4440 - accuracy: 0.8497 - val_loss: 0.4964 - val_accuracy: 0.8279\n",
      "\n",
      "Epoch 00067: val_loss improved from 0.50509 to 0.49642, saving model to model.h5\n",
      "Epoch 68/200\n",
      "42/42 [==============================] - 9s 216ms/step - loss: 0.4087 - accuracy: 0.8475 - val_loss: 0.6453 - val_accuracy: 0.7953\n",
      "\n",
      "Epoch 00068: val_loss did not improve from 0.49642\n",
      "Epoch 69/200\n",
      "42/42 [==============================] - 9s 216ms/step - loss: 0.4031 - accuracy: 0.8668 - val_loss: 0.6089 - val_accuracy: 0.8131\n",
      "\n",
      "Epoch 00069: val_loss did not improve from 0.49642\n",
      "Epoch 70/200\n",
      "42/42 [==============================] - 10s 225ms/step - loss: 0.3860 - accuracy: 0.8683 - val_loss: 0.6278 - val_accuracy: 0.8131\n",
      "\n",
      "Epoch 00070: val_loss did not improve from 0.49642\n",
      "Epoch 71/200\n",
      "42/42 [==============================] - 9s 212ms/step - loss: 0.3659 - accuracy: 0.8854 - val_loss: 0.5819 - val_accuracy: 0.8220\n",
      "\n",
      "Epoch 00071: val_loss did not improve from 0.49642\n",
      "Epoch 72/200\n",
      "42/42 [==============================] - 9s 210ms/step - loss: 0.3618 - accuracy: 0.8720 - val_loss: 0.6042 - val_accuracy: 0.8190\n",
      "\n",
      "Epoch 00072: val_loss did not improve from 0.49642\n",
      "Epoch 73/200\n",
      "42/42 [==============================] - 10s 226ms/step - loss: 0.3400 - accuracy: 0.8936 - val_loss: 0.6083 - val_accuracy: 0.7923\n",
      "\n",
      "Epoch 00073: val_loss did not improve from 0.49642\n",
      "Epoch 74/200\n",
      "42/42 [==============================] - 9s 215ms/step - loss: 0.3531 - accuracy: 0.8735 - val_loss: 0.7399 - val_accuracy: 0.7834\n",
      "\n",
      "Epoch 00074: val_loss did not improve from 0.49642\n",
      "Epoch 75/200\n",
      "42/42 [==============================] - 9s 212ms/step - loss: 0.3217 - accuracy: 0.8921 - val_loss: 0.5665 - val_accuracy: 0.8190\n",
      "\n",
      "Epoch 00075: val_loss did not improve from 0.49642\n",
      "Epoch 76/200\n",
      "42/42 [==============================] - 9s 211ms/step - loss: 0.3218 - accuracy: 0.8862 - val_loss: 0.5810 - val_accuracy: 0.8249\n",
      "\n",
      "Epoch 00076: val_loss did not improve from 0.49642\n",
      "Epoch 77/200\n",
      "42/42 [==============================] - 9s 221ms/step - loss: 0.3779 - accuracy: 0.8668 - val_loss: 0.7346 - val_accuracy: 0.7953\n",
      "\n",
      "Epoch 00077: val_loss did not improve from 0.49642\n",
      "Epoch 78/200\n",
      "42/42 [==============================] - 9s 213ms/step - loss: 0.3525 - accuracy: 0.8824 - val_loss: 0.6931 - val_accuracy: 0.8101\n",
      "\n",
      "Epoch 00078: val_loss did not improve from 0.49642\n",
      "Epoch 79/200\n",
      "42/42 [==============================] - 9s 211ms/step - loss: 0.3508 - accuracy: 0.8817 - val_loss: 0.6629 - val_accuracy: 0.8071\n",
      "\n",
      "Epoch 00079: val_loss did not improve from 0.49642\n",
      "Epoch 80/200\n",
      "42/42 [==============================] - 10s 224ms/step - loss: 0.4012 - accuracy: 0.8661 - val_loss: 0.7015 - val_accuracy: 0.7745\n",
      "\n",
      "Epoch 00080: val_loss did not improve from 0.49642\n",
      "Epoch 81/200\n",
      "42/42 [==============================] - 9s 212ms/step - loss: 0.4069 - accuracy: 0.8728 - val_loss: 0.6408 - val_accuracy: 0.8042\n",
      "\n",
      "Epoch 00081: val_loss did not improve from 0.49642\n",
      "Epoch 82/200\n",
      "42/42 [==============================] - 9s 212ms/step - loss: 0.3816 - accuracy: 0.8646 - val_loss: 0.6552 - val_accuracy: 0.7953\n",
      "\n",
      "Epoch 00082: val_loss did not improve from 0.49642\n",
      "Epoch 83/200\n",
      "42/42 [==============================] - 9s 205ms/step - loss: 0.3877 - accuracy: 0.8713 - val_loss: 0.7145 - val_accuracy: 0.8131\n",
      "\n",
      "Epoch 00083: val_loss did not improve from 0.49642\n",
      "Epoch 84/200\n",
      "42/42 [==============================] - 10s 232ms/step - loss: 0.3080 - accuracy: 0.8891 - val_loss: 0.5621 - val_accuracy: 0.8338\n",
      "\n",
      "Epoch 00084: val_loss did not improve from 0.49642\n",
      "Epoch 85/200\n",
      "42/42 [==============================] - 9s 211ms/step - loss: 0.3281 - accuracy: 0.8988 - val_loss: 0.6737 - val_accuracy: 0.7953\n",
      "\n",
      "Epoch 00085: val_loss did not improve from 0.49642\n",
      "Epoch 86/200\n",
      "42/42 [==============================] - 9s 210ms/step - loss: 0.3168 - accuracy: 0.8802 - val_loss: 0.8414 - val_accuracy: 0.7774\n",
      "\n",
      "Epoch 00086: val_loss did not improve from 0.49642\n",
      "Epoch 87/200\n",
      "42/42 [==============================] - 10s 231ms/step - loss: 0.3087 - accuracy: 0.8951 - val_loss: 0.7785 - val_accuracy: 0.8012\n",
      "\n",
      "Epoch 00087: val_loss did not improve from 0.49642\n",
      "Epoch 88/200\n",
      "42/42 [==============================] - 9s 212ms/step - loss: 0.3160 - accuracy: 0.9048 - val_loss: 0.8385 - val_accuracy: 0.7864\n",
      "\n",
      "Epoch 00088: val_loss did not improve from 0.49642\n",
      "Epoch 89/200\n",
      "42/42 [==============================] - 9s 206ms/step - loss: 0.3234 - accuracy: 0.8884 - val_loss: 0.7575 - val_accuracy: 0.7834\n",
      "\n",
      "Epoch 00089: val_loss did not improve from 0.49642\n",
      "Epoch 90/200\n",
      "42/42 [==============================] - 9s 212ms/step - loss: 0.3420 - accuracy: 0.8832 - val_loss: 0.6788 - val_accuracy: 0.8131\n",
      "\n",
      "Epoch 00090: val_loss did not improve from 0.49642\n",
      "Epoch 91/200\n",
      "42/42 [==============================] - 10s 224ms/step - loss: 0.3095 - accuracy: 0.8929 - val_loss: 0.6084 - val_accuracy: 0.8160\n",
      "\n",
      "Epoch 00091: val_loss did not improve from 0.49642\n",
      "Epoch 92/200\n",
      "42/42 [==============================] - 9s 211ms/step - loss: 0.2844 - accuracy: 0.9018 - val_loss: 0.8405 - val_accuracy: 0.7745\n",
      "\n",
      "Epoch 00092: val_loss did not improve from 0.49642\n",
      "Epoch 93/200\n",
      "42/42 [==============================] - 9s 212ms/step - loss: 0.3405 - accuracy: 0.8839 - val_loss: 0.6503 - val_accuracy: 0.7893\n",
      "\n",
      "Epoch 00093: val_loss did not improve from 0.49642\n",
      "Epoch 94/200\n",
      "42/42 [==============================] - 10s 231ms/step - loss: 0.3077 - accuracy: 0.8862 - val_loss: 0.6148 - val_accuracy: 0.8398\n",
      "\n",
      "Epoch 00094: val_loss did not improve from 0.49642\n",
      "Epoch 95/200\n",
      "42/42 [==============================] - 9s 206ms/step - loss: 0.2855 - accuracy: 0.8996 - val_loss: 0.6451 - val_accuracy: 0.7923\n",
      "\n",
      "Epoch 00095: val_loss did not improve from 0.49642\n",
      "Epoch 96/200\n",
      "42/42 [==============================] - 9s 214ms/step - loss: 0.2579 - accuracy: 0.9100 - val_loss: 0.6881 - val_accuracy: 0.8190\n",
      "\n",
      "Epoch 00096: val_loss did not improve from 0.49642\n",
      "Epoch 97/200\n",
      "42/42 [==============================] - 10s 228ms/step - loss: 0.2736 - accuracy: 0.9018 - val_loss: 0.6073 - val_accuracy: 0.8190\n",
      "\n",
      "Epoch 00097: val_loss did not improve from 0.49642\n",
      "Epoch 98/200\n",
      "42/42 [==============================] - 9s 213ms/step - loss: 0.2973 - accuracy: 0.8996 - val_loss: 0.8259 - val_accuracy: 0.7626\n",
      "\n",
      "Epoch 00098: val_loss did not improve from 0.49642\n",
      "Epoch 99/200\n",
      "42/42 [==============================] - 9s 212ms/step - loss: 0.3324 - accuracy: 0.8876 - val_loss: 0.7148 - val_accuracy: 0.7953\n",
      "\n",
      "Epoch 00099: val_loss did not improve from 0.49642\n",
      "Epoch 100/200\n",
      "42/42 [==============================] - 9s 213ms/step - loss: 0.3617 - accuracy: 0.8780 - val_loss: 0.6284 - val_accuracy: 0.7923\n",
      "\n",
      "Epoch 00100: val_loss did not improve from 0.49642\n",
      "Epoch 101/200\n",
      "42/42 [==============================] - 10s 226ms/step - loss: 0.2752 - accuracy: 0.9100 - val_loss: 0.7380 - val_accuracy: 0.7834\n",
      "\n",
      "Epoch 00101: val_loss did not improve from 0.49642\n",
      "Epoch 102/200\n",
      "42/42 [==============================] - 9s 206ms/step - loss: 0.2568 - accuracy: 0.9033 - val_loss: 0.8592 - val_accuracy: 0.7774\n",
      "\n",
      "Epoch 00102: val_loss did not improve from 0.49642\n",
      "Epoch 103/200\n",
      "42/42 [==============================] - 9s 212ms/step - loss: 0.3247 - accuracy: 0.9025 - val_loss: 0.7132 - val_accuracy: 0.8131\n",
      "\n",
      "Epoch 00103: val_loss did not improve from 0.49642\n",
      "Epoch 104/200\n",
      "42/42 [==============================] - 10s 233ms/step - loss: 0.2717 - accuracy: 0.9100 - val_loss: 0.6403 - val_accuracy: 0.8012\n",
      "\n",
      "Epoch 00104: val_loss did not improve from 0.49642\n",
      "Epoch 105/200\n",
      "42/42 [==============================] - 9s 212ms/step - loss: 0.2450 - accuracy: 0.9204 - val_loss: 0.7863 - val_accuracy: 0.8012\n",
      "\n",
      "Epoch 00105: val_loss did not improve from 0.49642\n",
      "Epoch 106/200\n",
      "42/42 [==============================] - 9s 214ms/step - loss: 0.2636 - accuracy: 0.9085 - val_loss: 0.7831 - val_accuracy: 0.7893\n",
      "\n",
      "Epoch 00106: val_loss did not improve from 0.49642\n",
      "Epoch 107/200\n",
      "42/42 [==============================] - 9s 218ms/step - loss: 0.2242 - accuracy: 0.9301 - val_loss: 0.6691 - val_accuracy: 0.8220\n",
      "\n",
      "Epoch 00107: val_loss did not improve from 0.49642\n",
      "Epoch 108/200\n",
      "42/42 [==============================] - 9s 220ms/step - loss: 0.2482 - accuracy: 0.9137 - val_loss: 0.7599 - val_accuracy: 0.7953\n",
      "\n",
      "Epoch 00108: val_loss did not improve from 0.49642\n",
      "Epoch 109/200\n",
      "42/42 [==============================] - 9s 212ms/step - loss: 0.2389 - accuracy: 0.9144 - val_loss: 0.7694 - val_accuracy: 0.8071\n",
      "\n",
      "Epoch 00109: val_loss did not improve from 0.49642\n",
      "Epoch 110/200\n",
      "42/42 [==============================] - 9s 216ms/step - loss: 0.2209 - accuracy: 0.9293 - val_loss: 0.6030 - val_accuracy: 0.8427\n",
      "\n",
      "Epoch 00110: val_loss did not improve from 0.49642\n",
      "Epoch 111/200\n",
      "42/42 [==============================] - 10s 228ms/step - loss: 0.2311 - accuracy: 0.9137 - val_loss: 0.6971 - val_accuracy: 0.8220\n",
      "\n",
      "Epoch 00111: val_loss did not improve from 0.49642\n",
      "Epoch 112/200\n",
      "42/42 [==============================] - 9s 212ms/step - loss: 0.1951 - accuracy: 0.9315 - val_loss: 0.8142 - val_accuracy: 0.8131\n",
      "\n",
      "Epoch 00112: val_loss did not improve from 0.49642\n",
      "Epoch 113/200\n",
      "42/42 [==============================] - 9s 212ms/step - loss: 0.2741 - accuracy: 0.9092 - val_loss: 0.8183 - val_accuracy: 0.7715\n",
      "\n",
      "Epoch 00113: val_loss did not improve from 0.49642\n",
      "Epoch 114/200\n",
      "42/42 [==============================] - 9s 210ms/step - loss: 0.3130 - accuracy: 0.9010 - val_loss: 1.0116 - val_accuracy: 0.7893\n",
      "\n",
      "Epoch 00114: val_loss did not improve from 0.49642\n",
      "Epoch 115/200\n",
      "42/42 [==============================] - 10s 228ms/step - loss: 0.3139 - accuracy: 0.8921 - val_loss: 0.7134 - val_accuracy: 0.7982\n",
      "\n",
      "Epoch 00115: val_loss did not improve from 0.49642\n",
      "Epoch 116/200\n",
      "42/42 [==============================] - 9s 213ms/step - loss: 0.2675 - accuracy: 0.9129 - val_loss: 0.7471 - val_accuracy: 0.8190\n",
      "\n",
      "Epoch 00116: val_loss did not improve from 0.49642\n",
      "Epoch 117/200\n",
      "42/42 [==============================] - 9s 219ms/step - loss: 0.2713 - accuracy: 0.9144 - val_loss: 0.8102 - val_accuracy: 0.7834\n",
      "\n",
      "Epoch 00117: val_loss did not improve from 0.49642\n",
      "Epoch 00117: early stopping\n"
     ]
    }
   ],
   "source": [
    "from tensorflow.keras.callbacks import ModelCheckpoint,EarlyStopping\n",
    "model.compile(optimizer='adam', loss='categorical_crossentropy', metrics=['accuracy'])\n",
    "\n",
    "epochs = 200\n",
    "\n",
    "checkpoint = ModelCheckpoint('model.h5',monitor='val_loss',verbose=1,save_best_only=True,save_weights_only=False,mode='auto',period=1)\n",
    "early = EarlyStopping(monitor='val_loss',min_delta=0,patience=50,verbose=1,mode='auto')\n",
    "\n",
    "history = model.fit(train_gen, epochs=epochs, validation_data=(testX, testY) ,callbacks=[checkpoint,early])"
   ]
  },
  {
   "cell_type": "code",
   "execution_count": 6,
   "id": "cf6d66bd",
   "metadata": {
    "execution": {
     "iopub.execute_input": "2022-12-22T17:08:26.130277Z",
     "iopub.status.busy": "2022-12-22T17:08:26.129897Z",
     "iopub.status.idle": "2022-12-22T17:08:27.029480Z",
     "shell.execute_reply": "2022-12-22T17:08:27.028451Z"
    },
    "papermill": {
     "duration": 1.194999,
     "end_time": "2022-12-22T17:08:27.031728",
     "exception": false,
     "start_time": "2022-12-22T17:08:25.836729",
     "status": "completed"
    },
    "tags": []
   },
   "outputs": [
    {
     "data": {
      "image/png": "[encoded data removed]",
      "text/plain": [
       "<Figure size 432x288 with 1 Axes>"
      ]
     },
     "metadata": {
      "needs_background": "light"
     },
     "output_type": "display_data"
    },
    {
     "data": {
      "image/png": "[encoded data removed]",
      "text/plain": [
       "<Figure size 432x288 with 1 Axes>"
      ]
     },
     "metadata": {
      "needs_background": "light"
     },
     "output_type": "display_data"
    }
   ],
   "source": [
    "plt.plot(history.history['loss'], label='train loss')\n",
    "plt.plot(history.history['val_loss'], label='val loss')\n",
    "plt.legend()\n",
    "plt.show()\n",
    "\n",
    "plt.plot(history.history['accuracy'], label='train accuracy')\n",
    "plt.plot(history.history['val_accuracy'], label='val accuracy')\n",
    "plt.legend()\n",
    "plt.show()"
   ]
  },
  {
   "cell_type": "markdown",
   "id": "f6838779",
   "metadata": {
    "papermill": {
     "duration": 0.289967,
     "end_time": "2022-12-22T17:08:27.617100",
     "exception": false,
     "start_time": "2022-12-22T17:08:27.327133",
     "status": "completed"
    },
    "tags": []
   },
   "source": [
    "# evalutaion"
   ]
  },
  {
   "cell_type": "code",
   "execution_count": 7,
   "id": "8eaa3fec",
   "metadata": {
    "execution": {
     "iopub.execute_input": "2022-12-22T17:08:28.260090Z",
     "iopub.status.busy": "2022-12-22T17:08:28.259714Z",
     "iopub.status.idle": "2022-12-22T17:08:28.799454Z",
     "shell.execute_reply": "2022-12-22T17:08:28.798376Z"
    },
    "papermill": {
     "duration": 0.89048,
     "end_time": "2022-12-22T17:08:28.801583",
     "exception": false,
     "start_time": "2022-12-22T17:08:27.911103",
     "status": "completed"
    },
    "tags": []
   },
   "outputs": [
    {
     "name": "stdout",
     "output_type": "stream",
     "text": [
      "11/11 [==============================] - 0s 22ms/step - loss: 0.8102 - accuracy: 0.7834\n"
     ]
    },
    {
     "data": {
      "text/plain": [
       "[0.8102130889892578, 0.783382773399353]"
      ]
     },
     "execution_count": 7,
     "metadata": {},
     "output_type": "execute_result"
    }
   ],
   "source": [
    "model.evaluate(testX,testY)"
   ]
  },
  {
   "cell_type": "markdown",
   "id": "61675985",
   "metadata": {
    "papermill": {
     "duration": 0.296769,
     "end_time": "2022-12-22T17:08:29.389506",
     "exception": false,
     "start_time": "2022-12-22T17:08:29.092737",
     "status": "completed"
    },
    "tags": []
   },
   "source": [
    "# Test Data"
   ]
  },
  {
   "cell_type": "code",
   "execution_count": 8,
   "id": "a11149db",
   "metadata": {
    "execution": {
     "iopub.execute_input": "2022-12-22T17:08:30.223715Z",
     "iopub.status.busy": "2022-12-22T17:08:30.223244Z",
     "iopub.status.idle": "2022-12-22T17:08:43.120073Z",
     "shell.execute_reply": "2022-12-22T17:08:43.118530Z"
    },
    "papermill": {
     "duration": 13.339076,
     "end_time": "2022-12-22T17:08:43.122550",
     "exception": false,
     "start_time": "2022-12-22T17:08:29.783474",
     "status": "completed"
    },
    "tags": []
   },
   "outputs": [
    {
     "name": "stdout",
     "output_type": "stream",
     "text": [
      "688\n"
     ]
    }
   ],
   "source": [
    "test_data = []\n",
    "for i in os.listdir('/kaggle/input/nn23-sports-image-classification/Test'):\n",
    "    img = cv.imread('/kaggle/input/nn23-sports-image-classification/Test/'+i)\n",
    "    img = cv.cvtColor(img,cv.COLOR_BGR2RGB)\n",
    "    img = cv.resize(img,(IMG_SIZE,IMG_SIZE))\n",
    "    test_data.append(np.array(img))\n",
    "test_data = np.array(test_data)\n",
    "test_data = test_data/255.0\n",
    "\n",
    "print(len(test_data))"
   ]
  },
  {
   "cell_type": "markdown",
   "id": "d6ba696a",
   "metadata": {
    "papermill": {
     "duration": 0.299975,
     "end_time": "2022-12-22T17:08:43.767298",
     "exception": false,
     "start_time": "2022-12-22T17:08:43.467323",
     "status": "completed"
    },
    "tags": []
   },
   "source": [
    "# Prediction"
   ]
  },
  {
   "cell_type": "code",
   "execution_count": 9,
   "id": "b1870f3b",
   "metadata": {
    "execution": {
     "iopub.execute_input": "2022-12-22T17:08:44.362311Z",
     "iopub.status.busy": "2022-12-22T17:08:44.361940Z",
     "iopub.status.idle": "2022-12-22T17:09:09.479550Z",
     "shell.execute_reply": "2022-12-22T17:09:09.478477Z"
    },
    "papermill": {
     "duration": 25.421362,
     "end_time": "2022-12-22T17:09:09.481992",
     "exception": false,
     "start_time": "2022-12-22T17:08:44.060630",
     "status": "completed"
    },
    "tags": []
   },
   "outputs": [],
   "source": [
    "pred = model.predict(test_data)\n",
    "pred = np.argmax(pred,axis=1)\n",
    "df = pd.DataFrame({'image_name':os.listdir('/kaggle/input/nn23-sports-image-classification/Test'),'Label':pred})\n",
    "df.to_csv('submission.csv',index=False)\n",
    "df\n",
    "\n",
    "model.save('model.h5')\n",
    "import pickle\n",
    "f = open('label_encoder.pkl', \"wb\")\n",
    "f.write(pickle.dumps(le))\n",
    "f.close()"
   ]
  }
 ],
 "metadata": {
  "kernelspec": {
   "display_name": "Python 3",
   "language": "python",
   "name": "python3"
  },
  "language_info": {
   "codemirror_mode": {
    "name": "ipython",
    "version": 3
   },
   "file_extension": ".py",
   "mimetype": "text/x-python",
   "name": "python",
   "nbconvert_exporter": "python",
   "pygments_lexer": "ipython3",
   "version": "3.7.12"
  },
  "papermill": {
   "default_parameters": {},
   "duration": 1632.234104,
   "end_time": "2022-12-22T17:09:13.231728",
   "environment_variables": {},
   "exception": null,
   "input_path": "__notebook__.ipynb",
   "output_path": "__notebook__.ipynb",
   "parameters": {},
   "start_time": "2022-12-22T16:42:00.997624",
   "version": "2.3.4"
  }
 },
 "nbformat": 4,
 "nbformat_minor": 5
}
